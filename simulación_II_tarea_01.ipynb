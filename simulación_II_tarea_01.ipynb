{
  "nbformat": 4,
  "nbformat_minor": 0,
  "metadata": {
    "colab": {
      "provenance": [],
      "authorship_tag": "ABX9TyO1eCDK8XZWxyl6gW7V1NQf",
      "include_colab_link": true
    },
    "kernelspec": {
      "name": "python3",
      "display_name": "Python 3"
    },
    "language_info": {
      "name": "python"
    }
  },
  "cells": [
    {
      "cell_type": "markdown",
      "metadata": {
        "id": "view-in-github",
        "colab_type": "text"
      },
      "source": [
        "<a href=\"https://colab.research.google.com/github/mejia080902-bit/simulacion_II/blob/main/simulaci%C3%B3n_II_tarea_01.ipynb\" target=\"_parent\"><img src=\"https://colab.research.google.com/assets/colab-badge.svg\" alt=\"Open In Colab\"/></a>"
      ]
    },
    {
      "cell_type": "code",
      "execution_count": null,
      "metadata": {
        "id": "k4FNPEnSRgXG"
      },
      "outputs": [],
      "source": [
        "\"\"\"\n",
        "Simulación II - Comparación de eficiencia de métodos Monte Carlo\n",
        "\"\"\"\n",
        "\n",
        "import numpy as np\n",
        "import matplotlib.pyplot as plt\n",
        "import random as rd\n",
        "import time  # <-- para medir tiempos\n",
        "\n",
        "# -------------------------\n",
        "# Función de interés\n",
        "# -------------------------\n",
        "def g(x):\n",
        "    \"\"\"Función a integrar: g(x) = sqrt(arctan(x))\"\"\"\n",
        "    return np.sqrt(np.arctan(x))\n",
        "\n",
        "# -------------------------\n",
        "# Método Monte Carlo Crudo\n",
        "# -------------------------\n",
        "def crudo(N):\n",
        "    \"\"\"\n",
        "    Estimador crudo de Monte Carlo\n",
        "    Retorna: media, varianza, desviación estándar, lista de valores simulados\n",
        "    \"\"\"\n",
        "    G = []\n",
        "    for i in range(N):\n",
        "        x = rd.random()       # muestra uniforme en [0,1]\n",
        "        G.append(g(x))\n",
        "    return np.mean(G), np.var(G), np.std(G), G\n",
        "\n",
        "# -------------------------\n",
        "# Método Monte Carlo Aceptación-Rechazo\n",
        "# -------------------------\n",
        "def aceptacion_rechazo(N):\n",
        "    \"\"\"\n",
        "    Estimador por método de aceptación-rechazo\n",
        "    Retorna: media, varianza, desviación estándar, lista de valores aceptados\n",
        "    \"\"\"\n",
        "    G = []\n",
        "    while len(G) < N:\n",
        "        x = rd.random()\n",
        "        y = rd.random() * max(g(np.linspace(0,1,100)))\n",
        "        if y <= g(x):\n",
        "            G.append(g(x))\n",
        "    return np.mean(G), np.var(G), np.std(G), G\n",
        "\n",
        "# -------------------------\n",
        "# Ejecución y tiempos\n",
        "# -------------------------\n",
        "N = 10000  # número de simulaciones\n",
        "\n",
        "# Método crudo\n",
        "start_crudo = time.time()\n",
        "res_crudo = crudo(N)\n",
        "end_crudo = time.time()\n",
        "t_crudo = end_crudo - start_crudo\n",
        "\n",
        "# Método aceptación-rechazo\n",
        "start_ar = time.time()\n",
        "res_ar = aceptacion_rechazo(N)\n",
        "end_ar = time.time()\n",
        "t_ar = end_ar - start_ar\n",
        "\n",
        "# -------------------------\n",
        "# Resultados\n",
        "# -------------------------\n",
        "print(\"---- Método Crudo ----\")\n",
        "print(f\"Estimador = {res_crudo[0]:.5f}, Varianza = {res_crudo[1]:.5f}, Tiempo = {t_crudo:.5f} s\")\n",
        "\n",
        "print(\"\\n---- Método Aceptación-Rechazo ----\")\n",
        "print(f\"Estimador = {res_ar[0]:.5f}, Varianza = {res_ar[1]:.5f}, Tiempo = {t_ar:.5f} s\")\n",
        "\n",
        "# -------------------------\n",
        "# Comparación de eficiencia\n",
        "# -------------------------\n",
        "epsilon = (t_ar * res_ar[1]) / (t_crudo * res_crudo[1])\n",
        "print(f\"\\nEficiencia relativa ε = {epsilon:.5f}\")\n",
        "if epsilon < 1:\n",
        "    print(\"✅ El método de aceptación-rechazo es más eficiente\")\n",
        "else:\n",
        "    print(\"✅ El método crudo es más eficiente\")\n"
      ]
    }
  ]
}